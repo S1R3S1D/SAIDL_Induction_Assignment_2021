{
 "cells": [
  {
   "cell_type": "code",
   "execution_count": 1,
   "metadata": {
    "collapsed": true
   },
   "outputs": [],
   "source": [
    "import torch\n",
    "import torchvision\n",
    "from torch import nn\n",
    "from torchvision import datasets, transforms\n",
    "from torch.utils.data import DataLoader\n",
    "import matplotlib.pyplot as plt\n",
    "import numpy as np"
   ]
  },
  {
   "cell_type": "code",
   "execution_count": 8,
   "outputs": [],
   "source": [
    "train_data = datasets.STL10(root=\"../data/\", split='train', transform=transforms.Lambda(lambda y:transforms.ToTensor()(np.array(y))), download = False )\n",
    "test_data = datasets.STL10(root=\"../data/\", split=\"test\", transform=transforms.Lambda(lambda y:transforms.ToTensor()(np.array(y))), download=False)\n",
    "\n",
    "train_dataloader = DataLoader(train_data, batch_size=64, shuffle=True)\n",
    "test_dataloader = DataLoader(test_data, batch_size=64, shuffle=True)"
   ],
   "metadata": {
    "collapsed": false,
    "pycharm": {
     "name": "#%%\n"
    }
   }
  },
  {
   "cell_type": "code",
   "execution_count": 17,
   "outputs": [],
   "source": [
    "epochs = 100\n",
    "learning_rate = 0.0001\n",
    "device = torch.device(\"cuda\" if torch.cuda.is_available() else \"cpu\")"
   ],
   "metadata": {
    "collapsed": false,
    "pycharm": {
     "name": "#%%\n"
    }
   }
  },
  {
   "cell_type": "code",
   "execution_count": 18,
   "outputs": [],
   "source": [
    "class Basic_Block(nn.Module):\n",
    "    def __init__(self, channels, outchannels, stride = 1, downsample = None):\n",
    "        super(Basic_Block, self).__init__()\n",
    "\n",
    "        self.Conv1 = nn.Conv2d(channels, outchannels, 3, stride, 1)\n",
    "        self.bn1 = nn.BatchNorm2d(outchannels)\n",
    "        self.relu = nn.ReLU()\n",
    "        self.Conv2 = nn.Conv2d(outchannels, outchannels, 3, 1, padding=1)\n",
    "        self.bn2 = nn.BatchNorm2d(outchannels)\n",
    "        self.downsample = downsample\n",
    "        self.stride =stride\n",
    "\n",
    "    def forward(self, x):\n",
    "\n",
    "        identity = x\n",
    "\n",
    "        out = self.Conv1(x)\n",
    "        out = self.bn1(out)\n",
    "        out = self.relu(out)\n",
    "        out = self.Conv2(out)\n",
    "        out = self.bn2(out)\n",
    "\n",
    "        if self.downsample is not None:\n",
    "            identity = self.downsample(x)\n",
    "\n",
    "        out += identity\n",
    "        out = self.relu(out)\n",
    "\n",
    "        return out"
   ],
   "metadata": {
    "collapsed": false,
    "pycharm": {
     "name": "#%%\n"
    }
   }
  },
  {
   "cell_type": "code",
   "execution_count": 19,
   "outputs": [],
   "source": [
    "class ResNet(nn.Module):\n",
    "\n",
    "    def __init__(self, block, layers, num_classes = 10):\n",
    "        super(ResNet, self).__init__()\n",
    "\n",
    "        self.inplanes = 64\n",
    "\n",
    "        self.conv1 = nn.Conv2d(3, self.inplanes, kernel_size=7, stride=2, padding=3)\n",
    "        self.bn1 = nn.BatchNorm2d(self.inplanes)\n",
    "        self.relu = nn.ReLU()\n",
    "        self.maxpool = nn.MaxPool2d(kernel_size=3, stride=2, padding=1)\n",
    "\n",
    "        self.layer_1 = self._make_layer(block, 64, layers[0])\n",
    "        self.layer_2 = self._make_layer(block, 128, layers[1], stride=2)\n",
    "        self.layer_3 = self._make_layer(block, 256, layers[2], stride=2)\n",
    "        self.layer_4 = self._make_layer(block, 512, layers[3], stride=2)\n",
    "\n",
    "        self.avgpool = nn.AdaptiveAvgPool2d((1, 1))\n",
    "        self.FC = nn.Linear(512, num_classes)\n",
    "\n",
    "    def _make_layer(self, block, planes, blocks, stride = 1):\n",
    "        downsample = None\n",
    "\n",
    "        if stride!=1 or self.inplanes!=planes:\n",
    "            downsample = nn.Sequential(\n",
    "                nn.Conv2d(self.inplanes, planes, 1, stride),\n",
    "                nn.BatchNorm2d(planes)\n",
    "            )\n",
    "\n",
    "        layers =[]\n",
    "        layers.append(block(self.inplanes, planes, stride, downsample))\n",
    "\n",
    "        self.inplanes = planes\n",
    "\n",
    "        for _ in range(1, blocks):\n",
    "            layers.append(block(self.inplanes, planes))\n",
    "\n",
    "        return nn.Sequential(*layers)\n",
    "\n",
    "    def forward(self, x):\n",
    "\n",
    "        out = self.conv1(x)\n",
    "        out = self.bn1(out)\n",
    "        out = self.relu(out)\n",
    "        out = self.maxpool(out)\n",
    "\n",
    "        out = self.layer_1(out)\n",
    "        out = self.layer_2(out)\n",
    "        out = self.layer_3(out)\n",
    "        out = self.layer_4(out)\n",
    "\n",
    "        out = self.avgpool(out)\n",
    "        out = torch.flatten(out, 1)\n",
    "        out = self.FC(out)\n",
    "\n",
    "        return out"
   ],
   "metadata": {
    "collapsed": false,
    "pycharm": {
     "name": "#%%\n"
    }
   }
  },
  {
   "cell_type": "code",
   "execution_count": 20,
   "outputs": [],
   "source": [
    "def resnet34():\n",
    "    layers=[4, 6, 6, 2]\n",
    "    model = ResNet(Basic_Block, layers)\n",
    "    return model\n",
    "\n",
    "model = resnet34().to(device)\n"
   ],
   "metadata": {
    "collapsed": false,
    "pycharm": {
     "name": "#%%\n"
    }
   }
  },
  {
   "cell_type": "code",
   "execution_count": 21,
   "outputs": [],
   "source": [
    "criterion = torch.nn.CrossEntropyLoss()\n",
    "optimizer = torch.optim.Adam(model.parameters(), lr=learning_rate)"
   ],
   "metadata": {
    "collapsed": false,
    "pycharm": {
     "name": "#%%\n"
    }
   }
  },
  {
   "cell_type": "code",
   "execution_count": 22,
   "outputs": [
    {
     "name": "stdout",
     "output_type": "stream",
     "text": [
      "Epoch  1  Done!\n",
      "Epoch  2  Done!\n",
      "Epoch  3  Done!\n",
      "Epoch  4  Done!\n",
      "Epoch  5  Done!\n",
      "Epoch  6  Done!\n",
      "Epoch  7  Done!\n",
      "Epoch  8  Done!\n",
      "Epoch  9  Done!\n",
      "Epoch  10  Done!\n",
      "Epoch  11  Done!\n",
      "Epoch  12  Done!\n",
      "Epoch  13  Done!\n",
      "Epoch  14  Done!\n",
      "Epoch  15  Done!\n",
      "Epoch  16  Done!\n",
      "Epoch  17  Done!\n",
      "Epoch  18  Done!\n",
      "Epoch  19  Done!\n",
      "Epoch  20  Done!\n",
      "Epoch  21  Done!\n",
      "Epoch  22  Done!\n",
      "Epoch  23  Done!\n",
      "Epoch  24  Done!\n",
      "Epoch  25  Done!\n",
      "Epoch  26  Done!\n",
      "Epoch  27  Done!\n",
      "Epoch  28  Done!\n",
      "Epoch  29  Done!\n",
      "Epoch  30  Done!\n",
      "Epoch  31  Done!\n",
      "Epoch  32  Done!\n",
      "Epoch  33  Done!\n",
      "Epoch  34  Done!\n",
      "Epoch  35  Done!\n",
      "Epoch  36  Done!\n",
      "Epoch  37  Done!\n",
      "Epoch  38  Done!\n",
      "Epoch  39  Done!\n",
      "Epoch  40  Done!\n",
      "Epoch  41  Done!\n",
      "Epoch  42  Done!\n",
      "Epoch  43  Done!\n",
      "Epoch  44  Done!\n",
      "Epoch  45  Done!\n",
      "Epoch  46  Done!\n",
      "Epoch  47  Done!\n",
      "Epoch  48  Done!\n",
      "Epoch  49  Done!\n",
      "Epoch  50  Done!\n",
      "Epoch  51  Done!\n",
      "Epoch  52  Done!\n",
      "Epoch  53  Done!\n",
      "Epoch  54  Done!\n",
      "Epoch  55  Done!\n",
      "Epoch  56  Done!\n",
      "Epoch  57  Done!\n",
      "Epoch  58  Done!\n",
      "Epoch  59  Done!\n",
      "Epoch  60  Done!\n",
      "Epoch  61  Done!\n",
      "Epoch  62  Done!\n",
      "Epoch  63  Done!\n",
      "Epoch  64  Done!\n",
      "Epoch  65  Done!\n",
      "Epoch  66  Done!\n",
      "Epoch  67  Done!\n",
      "Epoch  68  Done!\n",
      "Epoch  69  Done!\n",
      "Epoch  70  Done!\n",
      "Epoch  71  Done!\n",
      "Epoch  72  Done!\n",
      "Epoch  73  Done!\n",
      "Epoch  74  Done!\n",
      "Epoch  75  Done!\n",
      "Epoch  76  Done!\n",
      "Epoch  77  Done!\n",
      "Epoch  78  Done!\n",
      "Epoch  79  Done!\n",
      "Epoch  80  Done!\n",
      "Epoch  81  Done!\n",
      "Epoch  82  Done!\n",
      "Epoch  83  Done!\n",
      "Epoch  84  Done!\n",
      "Epoch  85  Done!\n",
      "Epoch  86  Done!\n",
      "Epoch  87  Done!\n",
      "Epoch  88  Done!\n",
      "Epoch  89  Done!\n",
      "Epoch  90  Done!\n",
      "Epoch  91  Done!\n",
      "Epoch  92  Done!\n",
      "Epoch  93  Done!\n",
      "Epoch  94  Done!\n",
      "Epoch  95  Done!\n",
      "Epoch  96  Done!\n",
      "Epoch  97  Done!\n",
      "Epoch  98  Done!\n",
      "Epoch  99  Done!\n",
      "Epoch  100  Done!\n"
     ]
    }
   ],
   "source": [
    "for epoch in range(epochs):\n",
    "    for i, (images, labels) in enumerate(train_dataloader):\n",
    "\n",
    "        images = images.to(device)\n",
    "        labels = labels.to(device)\n",
    "\n",
    "        preds = model(images)\n",
    "        loss = criterion(preds, labels)\n",
    "\n",
    "        optimizer.zero_grad()\n",
    "        loss.backward()\n",
    "        optimizer.step()\n",
    "\n",
    "    print(\"Epoch \", (epoch+1), \" Done!\")\n"
   ],
   "metadata": {
    "collapsed": false,
    "pycharm": {
     "name": "#%%\n"
    }
   }
  },
  {
   "cell_type": "code",
   "execution_count": 23,
   "outputs": [
    {
     "name": "stdout",
     "output_type": "stream",
     "text": [
      "Accuracy of the model on the test images: 63.15 %\n"
     ]
    }
   ],
   "source": [
    "# Test the model\n",
    "model.eval()\n",
    "with torch.no_grad():\n",
    "    correct = 0\n",
    "    total = 0\n",
    "    for images, labels in test_dataloader:\n",
    "        images = images.to(device)\n",
    "        labels = labels.to(device)\n",
    "        outputs = model(images)\n",
    "        _, predicted = torch.max(outputs.data, 1)\n",
    "        total += labels.size(0)\n",
    "        correct += (predicted == labels).sum().item()\n",
    "\n",
    "    print('Accuracy of the model on the test images: {} %'.format(100 * correct / total))"
   ],
   "metadata": {
    "collapsed": false,
    "pycharm": {
     "name": "#%%\n"
    }
   }
  },
  {
   "cell_type": "code",
   "execution_count": null,
   "outputs": [],
   "source": [],
   "metadata": {
    "collapsed": false,
    "pycharm": {
     "name": "#%%\n"
    }
   }
  }
 ],
 "metadata": {
  "kernelspec": {
   "display_name": "Python 3",
   "language": "python",
   "name": "python3"
  },
  "language_info": {
   "codemirror_mode": {
    "name": "ipython",
    "version": 2
   },
   "file_extension": ".py",
   "mimetype": "text/x-python",
   "name": "python",
   "nbconvert_exporter": "python",
   "pygments_lexer": "ipython2",
   "version": "2.7.6"
  }
 },
 "nbformat": 4,
 "nbformat_minor": 0
}